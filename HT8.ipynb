{
 "cells": [
  {
   "attachments": {},
   "cell_type": "markdown",
   "metadata": {},
   "source": [
    "## HOJA DE TRABAJO 8 - REDES NEURONALES"
   ]
  },
  {
   "cell_type": "code",
   "execution_count": 2,
   "metadata": {},
   "outputs": [],
   "source": [
    "# Importando librerias necesarias\n",
    "\n",
    "import matplotlib.pyplot as plt\n",
    "import numpy as np\n",
    "import random\n",
    "import statsmodels.api as sm\n",
    "import statsmodels.stats.diagnostic as diag\n",
    "import pandas as pd\n",
    "import seaborn as sns\n",
    "import scipy.stats as stats\n",
    "from sklearn import datasets\n",
    "from sklearn.model_selection import train_test_split\n",
    "from sklearn.preprocessing import StandardScaler\n",
    "from sklearn.neural_network import MLPClassifier\n",
    "\n",
    "#Metrics\n",
    "from sklearn.metrics import classification_report\n",
    "from sklearn.metrics import confusion_matrix\n",
    "from sklearn.metrics import recall_score, f1_score\n",
    "from sklearn.metrics import make_scorer, accuracy_score, precision_score"
   ]
  },
  {
   "cell_type": "code",
   "execution_count": 92,
   "metadata": {},
   "outputs": [
    {
     "data": {
      "text/plain": [
       "SaleType\n",
       "WD       1267\n",
       "New       122\n",
       "COD        43\n",
       "ConLD       9\n",
       "ConLI       5\n",
       "ConLw       5\n",
       "CWD         4\n",
       "Oth         3\n",
       "Con         2\n",
       "Name: count, dtype: int64"
      ]
     },
     "execution_count": 92,
     "metadata": {},
     "output_type": "execute_result"
    }
   ],
   "source": [
    "# Cargando dataset con pandas\n",
    "data = pd.read_csv('train.csv')\n",
    "data = pd.DataFrame(data)\n",
    "\n",
    "# Limpieza de datos\n",
    "data['neighborhood'] = 0\n",
    "NEIGHBORHOOD = list(set(nh for nh in data['Neighborhood']))\n",
    "for index, neighborhood_name in enumerate(NEIGHBORHOOD):\n",
    "    data.loc[data['Neighborhood'] == neighborhood_name, 'neighborhood'] = index + 1\n",
    "\n",
    "data['houseStyle'] = 0\n",
    "HOUSE_STYLE = list(set(hs for hs in data['HouseStyle']))\n",
    "for index, houseStyle_name in enumerate(HOUSE_STYLE):\n",
    "    data.loc[data['HouseStyle'] == houseStyle_name, 'houseStyle'] = index + 1\n",
    "\n",
    "data['houseZone'] = 0\n",
    "MS_ZONING = list(set(msz for msz in data['MSZoning']))\n",
    "for index, MSZoning_name in enumerate(MS_ZONING):\n",
    "    data.loc[data['MSZoning'] == MSZoning_name, 'houseZone'] = index + 1\n",
    "\n",
    "data['houseUtilities'] = 0\n",
    "UTILITIES = list(set(u for u in data['Utilities']))\n",
    "for index, utils in enumerate(UTILITIES):\n",
    "    data.loc[data['Utilities'] == utils, 'houseUtilities'] = index + 1\n",
    "\n",
    "data['roadAccess'] = 0\n",
    "CONDITION_1 = list(set(c1 for c1 in data['Condition1']))\n",
    "for index, c1 in enumerate(CONDITION_1):\n",
    "    data.loc[data['Condition1'] == c1, 'roadAccess'] = index + 1\n",
    "\n",
    "data['remodelated'] = 0\n",
    "data.loc[data['YearBuilt'] != data['YearRemodAdd'], 'remodelated'] = 1\n",
    "\n",
    "data['roofStyle'] = 0\n",
    "ROOF_STYLE = list(set(rs for rs in data['RoofStyle']))\n",
    "for index, rs in enumerate(ROOF_STYLE):\n",
    "    data.loc[data['RoofStyle'] == rs, 'roofStyle'] = index + 1\n",
    "\n",
    "data['roofMaterial'] = 0\n",
    "ROOF_MATL = list(set(rm for rm in data['RoofMatl']))\n",
    "for index, rm in enumerate(ROOF_MATL):\n",
    "    data.loc[data['RoofMatl'] == rm, 'roofMaterial'] = index + 1\n",
    "\n",
    "data['exteriorCondition'] = 0\n",
    "EXTER_COND = list(set(ec for ec in data['ExterCond']))\n",
    "for index, ec in enumerate(EXTER_COND):\n",
    "    data.loc[data['ExterCond'] == ec, 'exteriorCondition'] = index + 1\n",
    "\n",
    "data['foundationMaterial'] = 0\n",
    "FOUNDATION = list(set(f for f in data['Foundation']))\n",
    "for index, f in enumerate(FOUNDATION):\n",
    "    data.loc[data['Foundation'] == f, 'foundationMaterial'] = index + 1\n",
    "\n",
    "data['basement'] = 0\n",
    "data.loc[~data['BsmtQual'].isna(), 'basement'] = 1\n",
    "\n",
    "data['basementCondition'] = 1\n",
    "data.loc[data['BsmtCond'] == \"Ex\", 'basementCondition'] = 3\n",
    "data.loc[data['BsmtCond'] == \"Gd\", 'basementCondition'] = 2\n",
    "data.loc[data['BsmtCond'].isna(), 'basementCondition'] = 0\n",
    "\n",
    "data['fireplace'] = 0\n",
    "data.loc[~data['FireplaceQu'].isna(), 'fireplace'] = 1\n",
    "\n",
    "data['pool'] = 0\n",
    "data.loc[~data['PoolQC'].isna(), 'pool'] = 1\n",
    "\n",
    "data['additionalFeature'] = 0\n",
    "data.loc[~data['MiscFeature'].isna(), 'additionalFeature'] = 1\n",
    "\n",
    "data['saleType'] = 0\n",
    "SALE_TYPE = list(set(st for st in data['SaleType']))\n",
    "for index, st in enumerate(SALE_TYPE):\n",
    "    data.loc[data['SaleType'] == st, 'saleType'] = index + 1\n",
    "\n",
    "\n",
    "\n",
    "data['SaleType'].value_counts()\n"
   ]
  },
  {
   "attachments": {},
   "cell_type": "markdown",
   "metadata": {},
   "source": [
    "### Conjuntos de entrenamiento y prueba"
   ]
  }
 ],
 "metadata": {
  "kernelspec": {
   "display_name": "Python 3",
   "language": "python",
   "name": "python3"
  },
  "language_info": {
   "codemirror_mode": {
    "name": "ipython",
    "version": 3
   },
   "file_extension": ".py",
   "mimetype": "text/x-python",
   "name": "python",
   "nbconvert_exporter": "python",
   "pygments_lexer": "ipython3",
   "version": "3.11.3"
  },
  "orig_nbformat": 4
 },
 "nbformat": 4,
 "nbformat_minor": 2
}
