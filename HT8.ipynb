{
 "cells": [
  {
   "cell_type": "markdown",
   "metadata": {},
   "source": [
    "## HOJA DE TRABAJO 8 - REDES NEURONALES"
   ]
  },
  {
   "cell_type": "code",
   "execution_count": 2,
   "metadata": {},
   "outputs": [],
   "source": [
    "# Importando librerias necesarias\n",
    "\n",
    "import matplotlib.pyplot as plt\n",
    "import numpy as np\n",
    "import random\n",
    "import time\n",
    "import statsmodels.api as sm\n",
    "import statsmodels.stats.diagnostic as diag\n",
    "import pandas as pd\n",
    "import seaborn as sns\n",
    "import scipy.stats as stats\n",
    "from sklearn import datasets\n",
    "from sklearn.model_selection import train_test_split\n",
    "from sklearn.preprocessing import StandardScaler\n",
    "from sklearn.neural_network import MLPClassifier\n",
    "from sklearn.model_selection import learning_curve\n",
    "from sklearn.model_selection import GridSearchCV\n",
    "from sklearn.ensemble import RandomForestClassifier\n",
    "from sklearn.neural_network import MLPRegressor\n",
    "\n",
    "\n",
    "#Metrics\n",
    "from sklearn.metrics import classification_report\n",
    "from sklearn.metrics import confusion_matrix\n",
    "from sklearn.metrics import recall_score, f1_score\n",
    "from sklearn.metrics import make_scorer, accuracy_score, precision_score\n",
    "from sklearn.metrics import mean_squared_error, mean_absolute_error"
   ]
  },
  {
   "cell_type": "markdown",
   "metadata": {},
   "source": [
    "### Preparación de datos"
   ]
  },
  {
   "cell_type": "code",
   "execution_count": 3,
   "metadata": {},
   "outputs": [
    {
     "data": {
      "text/html": [
       "<div>\n",
       "<style scoped>\n",
       "    .dataframe tbody tr th:only-of-type {\n",
       "        vertical-align: middle;\n",
       "    }\n",
       "\n",
       "    .dataframe tbody tr th {\n",
       "        vertical-align: top;\n",
       "    }\n",
       "\n",
       "    .dataframe thead th {\n",
       "        text-align: right;\n",
       "    }\n",
       "</style>\n",
       "<table border=\"1\" class=\"dataframe\">\n",
       "  <thead>\n",
       "    <tr style=\"text-align: right;\">\n",
       "      <th></th>\n",
       "      <th>neighborhood</th>\n",
       "      <th>houseStyle</th>\n",
       "      <th>houseZone</th>\n",
       "      <th>houseUtilities</th>\n",
       "      <th>roadAccess</th>\n",
       "      <th>remodelated</th>\n",
       "      <th>roofStyle</th>\n",
       "      <th>roofMaterial</th>\n",
       "      <th>exteriorCondition</th>\n",
       "      <th>foundationMaterial</th>\n",
       "      <th>...</th>\n",
       "      <th>basementCondition</th>\n",
       "      <th>fireplace</th>\n",
       "      <th>pool</th>\n",
       "      <th>additionalFeature</th>\n",
       "      <th>saleType</th>\n",
       "      <th>overallQuality</th>\n",
       "      <th>overallCondition</th>\n",
       "      <th>livingArea</th>\n",
       "      <th>yearBuilt</th>\n",
       "      <th>salePrice</th>\n",
       "    </tr>\n",
       "  </thead>\n",
       "  <tbody>\n",
       "    <tr>\n",
       "      <th>0</th>\n",
       "      <td>23</td>\n",
       "      <td>1</td>\n",
       "      <td>1</td>\n",
       "      <td>1</td>\n",
       "      <td>3</td>\n",
       "      <td>0</td>\n",
       "      <td>5</td>\n",
       "      <td>7</td>\n",
       "      <td>1</td>\n",
       "      <td>2</td>\n",
       "      <td>...</td>\n",
       "      <td>1</td>\n",
       "      <td>0</td>\n",
       "      <td>0</td>\n",
       "      <td>0</td>\n",
       "      <td>2</td>\n",
       "      <td>7</td>\n",
       "      <td>5</td>\n",
       "      <td>1710</td>\n",
       "      <td>2003</td>\n",
       "      <td>208500</td>\n",
       "    </tr>\n",
       "    <tr>\n",
       "      <th>1</th>\n",
       "      <td>22</td>\n",
       "      <td>5</td>\n",
       "      <td>1</td>\n",
       "      <td>1</td>\n",
       "      <td>4</td>\n",
       "      <td>0</td>\n",
       "      <td>5</td>\n",
       "      <td>7</td>\n",
       "      <td>1</td>\n",
       "      <td>4</td>\n",
       "      <td>...</td>\n",
       "      <td>1</td>\n",
       "      <td>1</td>\n",
       "      <td>0</td>\n",
       "      <td>0</td>\n",
       "      <td>2</td>\n",
       "      <td>6</td>\n",
       "      <td>8</td>\n",
       "      <td>1262</td>\n",
       "      <td>1976</td>\n",
       "      <td>181500</td>\n",
       "    </tr>\n",
       "    <tr>\n",
       "      <th>2</th>\n",
       "      <td>23</td>\n",
       "      <td>1</td>\n",
       "      <td>1</td>\n",
       "      <td>1</td>\n",
       "      <td>3</td>\n",
       "      <td>1</td>\n",
       "      <td>5</td>\n",
       "      <td>7</td>\n",
       "      <td>1</td>\n",
       "      <td>2</td>\n",
       "      <td>...</td>\n",
       "      <td>1</td>\n",
       "      <td>1</td>\n",
       "      <td>0</td>\n",
       "      <td>0</td>\n",
       "      <td>2</td>\n",
       "      <td>7</td>\n",
       "      <td>5</td>\n",
       "      <td>1786</td>\n",
       "      <td>2001</td>\n",
       "      <td>223500</td>\n",
       "    </tr>\n",
       "    <tr>\n",
       "      <th>3</th>\n",
       "      <td>4</td>\n",
       "      <td>1</td>\n",
       "      <td>1</td>\n",
       "      <td>1</td>\n",
       "      <td>3</td>\n",
       "      <td>1</td>\n",
       "      <td>5</td>\n",
       "      <td>7</td>\n",
       "      <td>1</td>\n",
       "      <td>5</td>\n",
       "      <td>...</td>\n",
       "      <td>2</td>\n",
       "      <td>1</td>\n",
       "      <td>0</td>\n",
       "      <td>0</td>\n",
       "      <td>2</td>\n",
       "      <td>7</td>\n",
       "      <td>5</td>\n",
       "      <td>1717</td>\n",
       "      <td>1915</td>\n",
       "      <td>140000</td>\n",
       "    </tr>\n",
       "    <tr>\n",
       "      <th>4</th>\n",
       "      <td>8</td>\n",
       "      <td>1</td>\n",
       "      <td>1</td>\n",
       "      <td>1</td>\n",
       "      <td>3</td>\n",
       "      <td>0</td>\n",
       "      <td>5</td>\n",
       "      <td>7</td>\n",
       "      <td>1</td>\n",
       "      <td>2</td>\n",
       "      <td>...</td>\n",
       "      <td>1</td>\n",
       "      <td>1</td>\n",
       "      <td>0</td>\n",
       "      <td>0</td>\n",
       "      <td>2</td>\n",
       "      <td>8</td>\n",
       "      <td>5</td>\n",
       "      <td>2198</td>\n",
       "      <td>2000</td>\n",
       "      <td>250000</td>\n",
       "    </tr>\n",
       "  </tbody>\n",
       "</table>\n",
       "<p>5 rows × 21 columns</p>\n",
       "</div>"
      ],
      "text/plain": [
       "   neighborhood  houseStyle  houseZone  houseUtilities  roadAccess   \n",
       "0            23           1          1               1           3  \\\n",
       "1            22           5          1               1           4   \n",
       "2            23           1          1               1           3   \n",
       "3             4           1          1               1           3   \n",
       "4             8           1          1               1           3   \n",
       "\n",
       "   remodelated  roofStyle  roofMaterial  exteriorCondition   \n",
       "0            0          5             7                  1  \\\n",
       "1            0          5             7                  1   \n",
       "2            1          5             7                  1   \n",
       "3            1          5             7                  1   \n",
       "4            0          5             7                  1   \n",
       "\n",
       "   foundationMaterial  ...  basementCondition  fireplace  pool   \n",
       "0                   2  ...                  1          0     0  \\\n",
       "1                   4  ...                  1          1     0   \n",
       "2                   2  ...                  1          1     0   \n",
       "3                   5  ...                  2          1     0   \n",
       "4                   2  ...                  1          1     0   \n",
       "\n",
       "   additionalFeature  saleType  overallQuality  overallCondition  livingArea   \n",
       "0                  0         2               7                 5        1710  \\\n",
       "1                  0         2               6                 8        1262   \n",
       "2                  0         2               7                 5        1786   \n",
       "3                  0         2               7                 5        1717   \n",
       "4                  0         2               8                 5        2198   \n",
       "\n",
       "   yearBuilt  salePrice  \n",
       "0       2003     208500  \n",
       "1       1976     181500  \n",
       "2       2001     223500  \n",
       "3       1915     140000  \n",
       "4       2000     250000  \n",
       "\n",
       "[5 rows x 21 columns]"
      ]
     },
     "execution_count": 3,
     "metadata": {},
     "output_type": "execute_result"
    }
   ],
   "source": [
    "# Cargando dataset con pandas\n",
    "data = pd.read_csv('train.csv')\n",
    "data = pd.DataFrame(data)\n",
    "\n",
    "\n",
    "# Limpieza de datos\n",
    "columns_used = []\n",
    "\n",
    "data['neighborhood'] = 0\n",
    "NEIGHBORHOOD = list(set(nh for nh in data['Neighborhood']))\n",
    "for index, neighborhood_name in enumerate(NEIGHBORHOOD):\n",
    "    data.loc[data['Neighborhood'] == neighborhood_name, 'neighborhood'] = index + 1\n",
    "columns_used.append('neighborhood')\n",
    "\n",
    "data['houseStyle'] = 0\n",
    "HOUSE_STYLE = list(set(hs for hs in data['HouseStyle']))\n",
    "for index, houseStyle_name in enumerate(HOUSE_STYLE):\n",
    "    data.loc[data['HouseStyle'] == houseStyle_name, 'houseStyle'] = index + 1\n",
    "columns_used.append('houseStyle')\n",
    "\n",
    "data['houseZone'] = 0\n",
    "MS_ZONING = list(set(msz for msz in data['MSZoning']))\n",
    "for index, MSZoning_name in enumerate(MS_ZONING):\n",
    "    data.loc[data['MSZoning'] == MSZoning_name, 'houseZone'] = index + 1\n",
    "columns_used.append('houseZone')\n",
    "\n",
    "data['houseUtilities'] = 0\n",
    "UTILITIES = list(set(u for u in data['Utilities']))\n",
    "for index, utils in enumerate(UTILITIES):\n",
    "    data.loc[data['Utilities'] == utils, 'houseUtilities'] = index + 1\n",
    "columns_used.append('houseUtilities')\n",
    "\n",
    "data['roadAccess'] = 0\n",
    "CONDITION_1 = list(set(c1 for c1 in data['Condition1']))\n",
    "for index, c1 in enumerate(CONDITION_1):\n",
    "    data.loc[data['Condition1'] == c1, 'roadAccess'] = index + 1\n",
    "columns_used.append('roadAccess')\n",
    "\n",
    "data['remodelated'] = 0\n",
    "data.loc[data['YearBuilt'] != data['YearRemodAdd'], 'remodelated'] = 1\n",
    "columns_used.append('remodelated')\n",
    "\n",
    "data['roofStyle'] = 0\n",
    "ROOF_STYLE = list(set(rs for rs in data['RoofStyle']))\n",
    "for index, rs in enumerate(ROOF_STYLE):\n",
    "    data.loc[data['RoofStyle'] == rs, 'roofStyle'] = index + 1\n",
    "columns_used.append('roofStyle')\n",
    "\n",
    "data['roofMaterial'] = 0\n",
    "ROOF_MATL = list(set(rm for rm in data['RoofMatl']))\n",
    "for index, rm in enumerate(ROOF_MATL):\n",
    "    data.loc[data['RoofMatl'] == rm, 'roofMaterial'] = index + 1\n",
    "columns_used.append('roofMaterial')\n",
    "\n",
    "data['exteriorCondition'] = 0\n",
    "EXTER_COND = list(set(ec for ec in data['ExterCond']))\n",
    "for index, ec in enumerate(EXTER_COND):\n",
    "    data.loc[data['ExterCond'] == ec, 'exteriorCondition'] = index + 1\n",
    "columns_used.append('exteriorCondition')\n",
    "\n",
    "data['foundationMaterial'] = 0\n",
    "FOUNDATION = list(set(f for f in data['Foundation']))\n",
    "for index, f in enumerate(FOUNDATION):\n",
    "    data.loc[data['Foundation'] == f, 'foundationMaterial'] = index + 1\n",
    "columns_used.append('foundationMaterial')\n",
    "\n",
    "data['basement'] = 0\n",
    "data.loc[~data['BsmtQual'].isna(), 'basement'] = 1\n",
    "columns_used.append('basement')\n",
    "\n",
    "data['basementCondition'] = 1\n",
    "data.loc[data['BsmtCond'] == \"Ex\", 'basementCondition'] = 3\n",
    "data.loc[data['BsmtCond'] == \"Gd\", 'basementCondition'] = 2\n",
    "data.loc[data['BsmtCond'].isna(), 'basementCondition'] = 0\n",
    "columns_used.append('basementCondition')\n",
    "\n",
    "data['fireplace'] = 0\n",
    "data.loc[~data['FireplaceQu'].isna(), 'fireplace'] = 1\n",
    "columns_used.append('fireplace')\n",
    "\n",
    "data['pool'] = 0\n",
    "data.loc[~data['PoolQC'].isna(), 'pool'] = 1\n",
    "columns_used.append('pool')\n",
    "\n",
    "data['additionalFeature'] = 0\n",
    "data.loc[~data['MiscFeature'].isna(), 'additionalFeature'] = 1\n",
    "columns_used.append('additionalFeature')\n",
    "\n",
    "data['saleType'] = 0\n",
    "SALE_TYPE = list(set(st for st in data['SaleType']))\n",
    "for index, st in enumerate(SALE_TYPE):\n",
    "    data.loc[data['SaleType'] == st, 'saleType'] = index + 1\n",
    "columns_used.append('saleType')\n",
    "\n",
    "data['overallQuality'] = data['OverallQual']\n",
    "columns_used.append('overallQuality')\n",
    "\n",
    "data['overallCondition'] = data['OverallCond']\n",
    "columns_used.append('overallCondition')\n",
    "\n",
    "data['livingArea'] = data['GrLivArea']\n",
    "columns_used.append('livingArea')\n",
    "\n",
    "data['yearBuilt'] = data['YearBuilt']\n",
    "columns_used.append('yearBuilt')\n",
    "\n",
    "data['salePrice'] = data['SalePrice']\n",
    "columns_used.append('salePrice')\n",
    "\n",
    "columns_not_used = [x for x in data.columns if x not in columns_used]\n",
    "data = data.drop(columns_not_used, axis=1)\n",
    "\n",
    "data.head()\n"
   ]
  },
  {
   "cell_type": "markdown",
   "metadata": {},
   "source": [
    "### 2. Variable respuesta - Categorización por precios"
   ]
  },
  {
   "cell_type": "code",
   "execution_count": 4,
   "metadata": {},
   "outputs": [
    {
     "data": {
      "text/html": [
       "<div>\n",
       "<style scoped>\n",
       "    .dataframe tbody tr th:only-of-type {\n",
       "        vertical-align: middle;\n",
       "    }\n",
       "\n",
       "    .dataframe tbody tr th {\n",
       "        vertical-align: top;\n",
       "    }\n",
       "\n",
       "    .dataframe thead th {\n",
       "        text-align: right;\n",
       "    }\n",
       "</style>\n",
       "<table border=\"1\" class=\"dataframe\">\n",
       "  <thead>\n",
       "    <tr style=\"text-align: right;\">\n",
       "      <th></th>\n",
       "      <th>neighborhood</th>\n",
       "      <th>houseStyle</th>\n",
       "      <th>houseZone</th>\n",
       "      <th>houseUtilities</th>\n",
       "      <th>roadAccess</th>\n",
       "      <th>remodelated</th>\n",
       "      <th>roofStyle</th>\n",
       "      <th>roofMaterial</th>\n",
       "      <th>exteriorCondition</th>\n",
       "      <th>foundationMaterial</th>\n",
       "      <th>...</th>\n",
       "      <th>fireplace</th>\n",
       "      <th>pool</th>\n",
       "      <th>additionalFeature</th>\n",
       "      <th>saleType</th>\n",
       "      <th>overallQuality</th>\n",
       "      <th>overallCondition</th>\n",
       "      <th>livingArea</th>\n",
       "      <th>yearBuilt</th>\n",
       "      <th>salePrice</th>\n",
       "      <th>economy</th>\n",
       "    </tr>\n",
       "  </thead>\n",
       "  <tbody>\n",
       "    <tr>\n",
       "      <th>0</th>\n",
       "      <td>23</td>\n",
       "      <td>1</td>\n",
       "      <td>1</td>\n",
       "      <td>1</td>\n",
       "      <td>3</td>\n",
       "      <td>0</td>\n",
       "      <td>5</td>\n",
       "      <td>7</td>\n",
       "      <td>1</td>\n",
       "      <td>2</td>\n",
       "      <td>...</td>\n",
       "      <td>0</td>\n",
       "      <td>0</td>\n",
       "      <td>0</td>\n",
       "      <td>2</td>\n",
       "      <td>7</td>\n",
       "      <td>5</td>\n",
       "      <td>1710</td>\n",
       "      <td>2003</td>\n",
       "      <td>208500</td>\n",
       "      <td>media</td>\n",
       "    </tr>\n",
       "    <tr>\n",
       "      <th>1</th>\n",
       "      <td>22</td>\n",
       "      <td>5</td>\n",
       "      <td>1</td>\n",
       "      <td>1</td>\n",
       "      <td>4</td>\n",
       "      <td>0</td>\n",
       "      <td>5</td>\n",
       "      <td>7</td>\n",
       "      <td>1</td>\n",
       "      <td>4</td>\n",
       "      <td>...</td>\n",
       "      <td>1</td>\n",
       "      <td>0</td>\n",
       "      <td>0</td>\n",
       "      <td>2</td>\n",
       "      <td>6</td>\n",
       "      <td>8</td>\n",
       "      <td>1262</td>\n",
       "      <td>1976</td>\n",
       "      <td>181500</td>\n",
       "      <td>media</td>\n",
       "    </tr>\n",
       "    <tr>\n",
       "      <th>2</th>\n",
       "      <td>23</td>\n",
       "      <td>1</td>\n",
       "      <td>1</td>\n",
       "      <td>1</td>\n",
       "      <td>3</td>\n",
       "      <td>1</td>\n",
       "      <td>5</td>\n",
       "      <td>7</td>\n",
       "      <td>1</td>\n",
       "      <td>2</td>\n",
       "      <td>...</td>\n",
       "      <td>1</td>\n",
       "      <td>0</td>\n",
       "      <td>0</td>\n",
       "      <td>2</td>\n",
       "      <td>7</td>\n",
       "      <td>5</td>\n",
       "      <td>1786</td>\n",
       "      <td>2001</td>\n",
       "      <td>223500</td>\n",
       "      <td>cara</td>\n",
       "    </tr>\n",
       "    <tr>\n",
       "      <th>3</th>\n",
       "      <td>4</td>\n",
       "      <td>1</td>\n",
       "      <td>1</td>\n",
       "      <td>1</td>\n",
       "      <td>3</td>\n",
       "      <td>1</td>\n",
       "      <td>5</td>\n",
       "      <td>7</td>\n",
       "      <td>1</td>\n",
       "      <td>5</td>\n",
       "      <td>...</td>\n",
       "      <td>1</td>\n",
       "      <td>0</td>\n",
       "      <td>0</td>\n",
       "      <td>2</td>\n",
       "      <td>7</td>\n",
       "      <td>5</td>\n",
       "      <td>1717</td>\n",
       "      <td>1915</td>\n",
       "      <td>140000</td>\n",
       "      <td>media</td>\n",
       "    </tr>\n",
       "    <tr>\n",
       "      <th>4</th>\n",
       "      <td>8</td>\n",
       "      <td>1</td>\n",
       "      <td>1</td>\n",
       "      <td>1</td>\n",
       "      <td>3</td>\n",
       "      <td>0</td>\n",
       "      <td>5</td>\n",
       "      <td>7</td>\n",
       "      <td>1</td>\n",
       "      <td>2</td>\n",
       "      <td>...</td>\n",
       "      <td>1</td>\n",
       "      <td>0</td>\n",
       "      <td>0</td>\n",
       "      <td>2</td>\n",
       "      <td>8</td>\n",
       "      <td>5</td>\n",
       "      <td>2198</td>\n",
       "      <td>2000</td>\n",
       "      <td>250000</td>\n",
       "      <td>cara</td>\n",
       "    </tr>\n",
       "  </tbody>\n",
       "</table>\n",
       "<p>5 rows × 22 columns</p>\n",
       "</div>"
      ],
      "text/plain": [
       "   neighborhood  houseStyle  houseZone  houseUtilities  roadAccess   \n",
       "0            23           1          1               1           3  \\\n",
       "1            22           5          1               1           4   \n",
       "2            23           1          1               1           3   \n",
       "3             4           1          1               1           3   \n",
       "4             8           1          1               1           3   \n",
       "\n",
       "   remodelated  roofStyle  roofMaterial  exteriorCondition   \n",
       "0            0          5             7                  1  \\\n",
       "1            0          5             7                  1   \n",
       "2            1          5             7                  1   \n",
       "3            1          5             7                  1   \n",
       "4            0          5             7                  1   \n",
       "\n",
       "   foundationMaterial  ...  fireplace  pool  additionalFeature  saleType   \n",
       "0                   2  ...          0     0                  0         2  \\\n",
       "1                   4  ...          1     0                  0         2   \n",
       "2                   2  ...          1     0                  0         2   \n",
       "3                   5  ...          1     0                  0         2   \n",
       "4                   2  ...          1     0                  0         2   \n",
       "\n",
       "   overallQuality  overallCondition  livingArea  yearBuilt  salePrice  economy  \n",
       "0               7                 5        1710       2003     208500    media  \n",
       "1               6                 8        1262       1976     181500    media  \n",
       "2               7                 5        1786       2001     223500     cara  \n",
       "3               7                 5        1717       1915     140000    media  \n",
       "4               8                 5        2198       2000     250000     cara  \n",
       "\n",
       "[5 rows x 22 columns]"
      ]
     },
     "execution_count": 4,
     "metadata": {},
     "output_type": "execute_result"
    }
   ],
   "source": [
    "cheap_cut = data['salePrice'].quantile(0.25)\n",
    "expensive_cut = data['salePrice'].quantile(0.75)\n",
    "\n",
    "data['economy'] = 0\n",
    "data.loc[data['salePrice'] < cheap_cut, 'economy'] = 'barata'\n",
    "data.loc[data['salePrice'] > expensive_cut, 'economy'] = 'cara'\n",
    "data.loc[(data['salePrice'] >= cheap_cut) & (data['salePrice'] <= expensive_cut), 'economy'] = 'media'\n",
    "\n",
    "data.head()"
   ]
  },
  {
   "cell_type": "markdown",
   "metadata": {},
   "source": [
    "### 1. Partición en conjuntos de entrenamiento y prueba"
   ]
  },
  {
   "cell_type": "code",
   "execution_count": 5,
   "metadata": {},
   "outputs": [],
   "source": [
    "## Dividir el dataset en train y test\n",
    "\n",
    "# Dividir el dataset en X e y\n",
    "X = data.drop(['salePrice', 'economy'], axis=1)\n",
    "y = data['economy']\n",
    "\n",
    "# 30% de los datos para test y 70% para train\n",
    "X_train, X_test, y_train, y_test = train_test_split(X, y, test_size=0.3, train_size=0.7, random_state=123)"
   ]
  },
  {
   "cell_type": "markdown",
   "metadata": {},
   "source": [
    "### 3. Generación de modelos para clasificar usando variable respuesta\n",
    "Genere dos modelos de redes neuronales que sean capaz de clasificar usando la variable respuesta que categoriza las casas en baratas, medias y caras. Estos modelos deben tener diferentes topologías y funciones de activación."
   ]
  },
  {
   "cell_type": "markdown",
   "metadata": {},
   "source": [
    "#### Normalización de los datos"
   ]
  },
  {
   "cell_type": "code",
   "execution_count": 6,
   "metadata": {},
   "outputs": [],
   "source": [
    "scaler = StandardScaler()\n",
    "scaler.fit(X)\n",
    "X_train = scaler.transform(X_train)\n",
    "X_test = scaler.transform(X_test)"
   ]
  },
  {
   "cell_type": "markdown",
   "metadata": {},
   "source": [
    "#### Creación de modelo 1"
   ]
  },
  {
   "cell_type": "code",
   "execution_count": 7,
   "metadata": {},
   "outputs": [],
   "source": [
    "# Modelo 1\n",
    "start_time_mlp1 = time.time()\n",
    "mlp1 = MLPClassifier(hidden_layer_sizes=(10,)*2, max_iter=3000, activation='relu', random_state=123)\n",
    "history1 = mlp1.fit(X_train, y_train)\n",
    "total_time_mlp1 = time.time() - start_time_mlp1"
   ]
  },
  {
   "cell_type": "markdown",
   "metadata": {},
   "source": [
    "#### Creación del modelo 2"
   ]
  },
  {
   "cell_type": "code",
   "execution_count": 8,
   "metadata": {},
   "outputs": [],
   "source": [
    "# Modelo 2\n",
    "start_time_mlp2 = time.time()\n",
    "mlp2 = MLPClassifier(hidden_layer_sizes=(10,)*4, max_iter=3000, activation='tanh', random_state=123)\n",
    "history2 = mlp2.fit(X_train, y_train)\n",
    "total_time_mlp2 = time.time() - start_time_mlp2"
   ]
  },
  {
   "cell_type": "markdown",
   "metadata": {},
   "source": [
    "### 4. Predicción de la variable respuesta"
   ]
  },
  {
   "cell_type": "code",
   "execution_count": 9,
   "metadata": {},
   "outputs": [],
   "source": [
    "# Predicciones\n",
    "y_pred1 = mlp1.predict(X_test)\n",
    "y_pred2 = mlp2.predict(X_test)"
   ]
  },
  {
   "cell_type": "markdown",
   "metadata": {},
   "source": [
    "### 5. Matrices de confusión"
   ]
  },
  {
   "cell_type": "code",
   "execution_count": 10,
   "metadata": {},
   "outputs": [
    {
     "name": "stdout",
     "output_type": "stream",
     "text": [
      "Matriz de confusión del modelo 1\n",
      "[[ 80   0  18]\n",
      " [  0  93  26]\n",
      " [ 27  12 182]]\n",
      "Exactitud: 0.8105022831050228\n",
      "Precisión: 0.8128958572098098\n",
      "Sensitividad: 0.8071228491396557\n",
      "Tiempo: 3.0592596530914307 segundos\n",
      "\n",
      "Matriz de confusión del modelo 2\n",
      "[[ 78   1  19]\n",
      " [  0  91  28]\n",
      " [ 31  12 178]]\n",
      "Exactitud: 0.7922374429223744\n",
      "Precisión: 0.7939024804621134\n",
      "Sensitividad: 0.7886847046510912\n",
      "Tiempo: 2.9607696533203125 segundos\n"
     ]
    }
   ],
   "source": [
    "cm1 = confusion_matrix(y_test, y_pred1)\n",
    "cm1_accuracy = accuracy_score(y_test, y_pred1)\n",
    "cm1_precision = precision_score(y_test, y_pred1, average='macro')\n",
    "cm1_recall = recall_score(y_test, y_pred1, average='macro')\n",
    "\n",
    "cm2 = confusion_matrix(y_test, y_pred2)\n",
    "cm2_accuracy = accuracy_score(y_test, y_pred2)\n",
    "cm2_precision = precision_score(y_test, y_pred2, average='macro')\n",
    "cm2_recall = recall_score(y_test, y_pred2, average='macro')\n",
    "\n",
    "print(f\"Matriz de confusión del modelo 1\\n{cm1}\\nExactitud: {cm1_accuracy}\\nPrecisión: {cm1_precision}\\nSensitividad: {cm1_recall}\\nTiempo: {total_time_mlp1} segundos\\n\")\n",
    "print(f\"Matriz de confusión del modelo 2\\n{cm2}\\nExactitud: {cm2_accuracy}\\nPrecisión: {cm2_precision}\\nSensitividad: {cm2_recall}\\nTiempo: {total_time_mlp2} segundos\")\n"
   ]
  },
  {
   "cell_type": "markdown",
   "metadata": {},
   "source": [
    "### 6. Comparación de resultados \n",
    "A pesar de que el modelo 2 tubo una mayor cantidad de capas ocultas este proveyó una menor exactitud, precisión y sensitividad al momento de predecir en comparación con el modelo 1. Se sabe que una mayor cantidad de capas en una red neuronal da una mayor complejidad al modelo y por ende la posibilidad de obtener mejores resultados en la predicción de datos. Por tanto, se puede intuir que la función de activación relu (unidad lineal rectificada) de la forma f(x) = max(0, x) en un modelo de redes neuronales nos provee mejores resultados que la función de activación f(x) = tanh(x). Por otra parte, se considera al modelo 2 es menos eficiente dado que además fue necesario más tiempo para generar el modelo. No obstante, los resultados para ambos modelos de exactitud, precisión y sensibilidad se consideran aceptables.\n"
   ]
  },
  {
   "cell_type": "markdown",
   "metadata": {},
   "source": [
    "### 7 - Analizando sobreajuste\n",
    "A continuación se puede observar gráficamente que no hay sobreajuste en el modelo dado que los scores de training y test permanecen relativamente cerca."
   ]
  },
  {
   "cell_type": "code",
   "execution_count": 11,
   "metadata": {},
   "outputs": [
    {
     "data": {
      "image/png": "[encoded data removed]",
      "text/plain": [
       "<Figure size 1000x600 with 1 Axes>"
      ]
     },
     "metadata": {},
     "output_type": "display_data"
    }
   ],
   "source": [
    "train_sizes, train_scores, test_scores = learning_curve(\n",
    "        mlp1, X, y, train_sizes=np.linspace(0.1, 1.0, 10))\n",
    "    \n",
    "plt.figure(figsize=(10, 6))\n",
    "plt.title(\"Scores Training vs aprendizaje\")\n",
    "plt.xlabel(\"Training examples\")\n",
    "plt.ylabel(\"Score\")\n",
    "    \n",
    "train_scores_mean = np.mean(train_scores, axis=1)\n",
    "train_scores_std = np.std(train_scores, axis=1)\n",
    "test_scores_mean = np.mean(test_scores, axis=1)\n",
    "test_scores_std = np.std(test_scores, axis=1)\n",
    "plt.grid()\n",
    "plt.fill_between(train_sizes, train_scores_mean - train_scores_std,\n",
    "                 train_scores_mean + train_scores_std, alpha=0.1,\n",
    "                 color=\"r\")\n",
    "plt.fill_between(train_sizes, test_scores_mean - test_scores_std,\n",
    "                 test_scores_mean + test_scores_std, alpha=0.1, color=\"g\")\n",
    "plt.plot(train_sizes, train_scores_mean, 'o-', color=\"r\",\n",
    "         label=\"Training score\")\n",
    "plt.plot(train_sizes, test_scores_mean, 'o-', color=\"g\",\n",
    "         label=\"Test \")\n",
    "plt.legend(loc=\"best\")\n",
    "plt.show()"
   ]
  },
  {
   "cell_type": "markdown",
   "metadata": {},
   "source": [
    "### 8 - Tuneando parametros\n",
    "Utilizamos el modelo 1.\n",
    "El mejor modelo al tunear los parametros tiene un accuracy de 0.794. Esto significa que el modelo 1 anterior sigue siendo el mejor."
   ]
  },
  {
   "cell_type": "code",
   "execution_count": 12,
   "metadata": {},
   "outputs": [
    {
     "name": "stdout",
     "output_type": "stream",
     "text": [
      "dict_keys(['activation', 'alpha', 'batch_size', 'beta_1', 'beta_2', 'early_stopping', 'epsilon', 'hidden_layer_sizes', 'learning_rate', 'learning_rate_init', 'max_fun', 'max_iter', 'momentum', 'n_iter_no_change', 'nesterovs_momentum', 'power_t', 'random_state', 'shuffle', 'solver', 'tol', 'validation_fraction', 'verbose', 'warm_start'])\n",
      "Best hyperparameters:  {'activation': 'relu', 'hidden_layer_sizes': (10, 10), 'max_iter': 10000}\n",
      "Best accuracy:  0.7835772357723577\n"
     ]
    }
   ],
   "source": [
    "print(mlp1.get_params().keys())\n",
    "param_grid = {\n",
    "    'hidden_layer_sizes': [(10,)*2,(14,)*2],\n",
    "    'max_iter': [10000, 15000],\n",
    "    'activation': ['relu']\n",
    "}\n",
    "\n",
    "mlp1 = MLPClassifier(random_state=123)\n",
    "\n",
    "# Instantiate the GridSearchCV object\n",
    "grid_search = GridSearchCV(mlp1, param_grid)\n",
    "\n",
    "# Train the model using GridSearchCV\n",
    "grid_search.fit(X_train, y_train)\n",
    "\n",
    "# Print the best hyperparameters and accuracy\n",
    "print(\"Best hyperparameters: \", grid_search.best_params_)\n",
    "print(\"Best accuracy: \", grid_search.best_score_)"
   ]
  },
  {
   "cell_type": "markdown",
   "metadata": {},
   "source": [
    "### 9 - Utilizando salePrice"
   ]
  },
  {
   "cell_type": "code",
   "execution_count": 13,
   "metadata": {},
   "outputs": [],
   "source": [
    "X = data.drop(['salePrice', 'economy'], axis=1)\n",
    "y = data['salePrice']\n",
    "\n",
    "# 30% de los datos para test y 70% para train\n",
    "X_train, X_test, y_train, y_test = train_test_split(X, y, test_size=0.3, train_size=0.7, random_state=123)\n",
    "\n",
    "\n",
    "scaler = StandardScaler()\n",
    "scaler.fit(X)\n",
    "X_train = scaler.transform(X_train)\n",
    "X_test = scaler.transform(X_test)\n"
   ]
  },
  {
   "cell_type": "markdown",
   "metadata": {},
   "source": [
    "### 10 - Creando modelos"
   ]
  },
  {
   "cell_type": "code",
   "execution_count": 14,
   "metadata": {},
   "outputs": [],
   "source": [
    "# Modelo 1\n",
    "start_time_r1 = time.time()\n",
    "regressor1 = MLPRegressor(hidden_layer_sizes=(10,)*2, max_iter=10000, activation='identity', random_state=222,\n",
    "                         validation_fraction=0.2)\n",
    "history1 = regressor1.fit(X_train, y_train)\n",
    "total_time_r1 = time.time() - start_time_r1\n",
    "# Modelo 2\n",
    "start_time_r2 = time.time()\n",
    "regressor2 = MLPRegressor(hidden_layer_sizes=(10,)*2, max_iter=10000, activation='relu', random_state=222,\n",
    "                         validation_fraction=0.2)\n",
    "history2 = regressor2.fit(X_train, y_train)\n",
    "total_time_r2 = time.time() - start_time_r1\n",
    "\n",
    "# Predicciones\n",
    "y_pred1_r = regressor1.predict(X_test)\n",
    "y_pred2_r = regressor2.predict(X_test)"
   ]
  },
  {
   "cell_type": "code",
   "execution_count": 15,
   "metadata": {},
   "outputs": [
    {
     "name": "stdout",
     "output_type": "stream",
     "text": [
      "Tiempo para el modelo 1:  3.790346622467041\n",
      "Tiempo para el modelo 2:  17.46433997154236\n"
     ]
    }
   ],
   "source": [
    "print(\"Tiempo para el modelo 1: \", total_time_r1)\n",
    "print(\"Tiempo para el modelo 2: \", total_time_r2)"
   ]
  },
  {
   "cell_type": "code",
   "execution_count": 16,
   "metadata": {},
   "outputs": [
    {
     "name": "stdout",
     "output_type": "stream",
     "text": [
      "RSME Modelo1:  34003.82241543935\n",
      "RSME Modelo2:  29915.899591696594\n",
      "Error promedio absoluto Modelo1:  23530.503999965265\n",
      "Error promedio absoluto Modelo2:  21325.64754370633\n"
     ]
    }
   ],
   "source": [
    "rmse1 = np.sqrt(mean_squared_error(y_test, y_pred1_r))\n",
    "rmse2 = np.sqrt(mean_squared_error(y_test, y_pred2_r))\n",
    "\n",
    "mae1 = mean_absolute_error(y_test, y_pred1_r)\n",
    "mae2 = mean_absolute_error(y_test, y_pred2_r)\n",
    "\n",
    "print(\"RSME Modelo1: \", rmse1)\n",
    "print(\"RSME Modelo2: \", rmse2)\n",
    "\n",
    "print(\"Error promedio absoluto Modelo1: \", mae1)\n",
    "print(\"Error promedio absoluto Modelo2: \", mae2)"
   ]
  },
  {
   "cell_type": "markdown",
   "metadata": {},
   "source": [
    "### 11 - Comparando modelos\n",
    "El segundo modelo utiliza una función de actuvación relu, y tiene un tiempo mayor de entrenamiento que el primer modelo. Sin embargo, al comparar ambos resultados podemos visualizar que este modelo generaliza mejor la información. Con un RSME de 28,816 y un error promedio absoluto de 19,576."
   ]
  },
  {
   "cell_type": "markdown",
   "metadata": {},
   "source": [
    "### 12 - Verificando si hay sobreajuste\n",
    "Al graficar los valores predecidos tanto para el set de entrenamiento como para el de test no pareciera que hay un sobreajuste dado que el modelo se comporta similar en ambos casos. Se puede observar que es muy bueno generalizando precios por debajo de los 400,000 USD."
   ]
  },
  {
   "cell_type": "code",
   "execution_count": 17,
   "metadata": {},
   "outputs": [
    {
     "data": {
      "image/png": "[encoded data removed]",
      "text/plain": [
       "<Figure size 640x480 with 1 Axes>"
      ]
     },
     "metadata": {},
     "output_type": "display_data"
    },
    {
     "data": {
      "image/png": "[encoded data removed]",
      "text/plain": [
       "<Figure size 640x480 with 1 Axes>"
      ]
     },
     "metadata": {},
     "output_type": "display_data"
    }
   ],
   "source": [
    "y_train_pred = regressor2.predict(X_train)\n",
    "y_val_pred = regressor2.predict(X_test)\n",
    "\n",
    "# Plot predicted values versus true values for training data\n",
    "plt.scatter(y_train, y_train_pred)\n",
    "plt.plot([np.min(y_train), np.max(y_train)], [np.min(y_train), np.max(y_train)], 'r')\n",
    "plt.xlabel('True values')\n",
    "plt.ylabel('Predicted values')\n",
    "plt.title('Training data')\n",
    "plt.show()\n",
    "\n",
    "# Plot predicted values versus true values for validation data\n",
    "plt.scatter(y_test, y_val_pred)\n",
    "plt.plot([np.min(y_test), np.max(y_test)], [np.min(y_test), np.max(y_test)], 'r')\n",
    "plt.xlabel('True values')\n",
    "plt.ylabel('Predicted values')\n",
    "plt.title('Validation data')\n",
    "plt.show()"
   ]
  },
  {
   "attachments": {},
   "cell_type": "markdown",
   "metadata": {},
   "source": [
    "### 13 - Tunear los parámetros de la regresión seleccionada\n",
    "\n",
    "Se utilizo el modelo 2 de regresion. Tiene un accuracy de 0.705. El cual indica que este es un buen modelo."
   ]
  },
  {
   "cell_type": "code",
   "execution_count": 24,
   "metadata": {},
   "outputs": [
    {
     "name": "stderr",
     "output_type": "stream",
     "text": [
      "/home/crislay/.local/lib/python3.10/site-packages/sklearn/neural_network/_multilayer_perceptron.py:686: ConvergenceWarning: Stochastic Optimizer: Maximum iterations (10000) reached and the optimization hasn't converged yet.\n",
      "  warnings.warn(\n",
      "/home/crislay/.local/lib/python3.10/site-packages/sklearn/neural_network/_multilayer_perceptron.py:686: ConvergenceWarning: Stochastic Optimizer: Maximum iterations (10000) reached and the optimization hasn't converged yet.\n",
      "  warnings.warn(\n",
      "/home/crislay/.local/lib/python3.10/site-packages/sklearn/neural_network/_multilayer_perceptron.py:686: ConvergenceWarning: Stochastic Optimizer: Maximum iterations (10000) reached and the optimization hasn't converged yet.\n",
      "  warnings.warn(\n",
      "/home/crislay/.local/lib/python3.10/site-packages/sklearn/neural_network/_multilayer_perceptron.py:686: ConvergenceWarning: Stochastic Optimizer: Maximum iterations (10000) reached and the optimization hasn't converged yet.\n",
      "  warnings.warn(\n",
      "/home/crislay/.local/lib/python3.10/site-packages/sklearn/neural_network/_multilayer_perceptron.py:686: ConvergenceWarning: Stochastic Optimizer: Maximum iterations (10000) reached and the optimization hasn't converged yet.\n",
      "  warnings.warn(\n",
      "/home/crislay/.local/lib/python3.10/site-packages/sklearn/neural_network/_multilayer_perceptron.py:686: ConvergenceWarning: Stochastic Optimizer: Maximum iterations (10000) reached and the optimization hasn't converged yet.\n",
      "  warnings.warn(\n",
      "/home/crislay/.local/lib/python3.10/site-packages/sklearn/neural_network/_multilayer_perceptron.py:686: ConvergenceWarning: Stochastic Optimizer: Maximum iterations (10000) reached and the optimization hasn't converged yet.\n",
      "  warnings.warn(\n",
      "/home/crislay/.local/lib/python3.10/site-packages/sklearn/neural_network/_multilayer_perceptron.py:686: ConvergenceWarning: Stochastic Optimizer: Maximum iterations (10000) reached and the optimization hasn't converged yet.\n",
      "  warnings.warn(\n",
      "/home/crislay/.local/lib/python3.10/site-packages/sklearn/neural_network/_multilayer_perceptron.py:686: ConvergenceWarning: Stochastic Optimizer: Maximum iterations (10000) reached and the optimization hasn't converged yet.\n",
      "  warnings.warn(\n",
      "/home/crislay/.local/lib/python3.10/site-packages/sklearn/neural_network/_multilayer_perceptron.py:686: ConvergenceWarning: Stochastic Optimizer: Maximum iterations (10000) reached and the optimization hasn't converged yet.\n",
      "  warnings.warn(\n",
      "/home/crislay/.local/lib/python3.10/site-packages/sklearn/neural_network/_multilayer_perceptron.py:686: ConvergenceWarning: Stochastic Optimizer: Maximum iterations (10000) reached and the optimization hasn't converged yet.\n",
      "  warnings.warn(\n"
     ]
    },
    {
     "name": "stdout",
     "output_type": "stream",
     "text": [
      "Best hyperparameters: {'activation': 'relu', 'hidden_layer_sizes': (20, 20)}\n",
      "Best accuracy: 0.7047521707267115\n"
     ]
    }
   ],
   "source": [
    "# Definir los valores de los parámetros a probar\n",
    "param_grid = {'hidden_layer_sizes': [(10, 10), (20, 20)],\n",
    "              'activation': ['relu', 'tanh']}\n",
    "\n",
    "# Definir el modelo a tunear\n",
    "regressor2 = MLPRegressor(max_iter=10000, random_state=123, validation_fraction=0.2)\n",
    "\n",
    "# Reducir el número de iteraciones de validación cruzada\n",
    "grid_search = GridSearchCV(regressor2, param_grid, cv=3, n_jobs=-1)\n",
    "\n",
    "grid_search.fit(X_train, y_train)\n",
    "\n",
    "print(f\"Best hyperparameters: {grid_search.best_params_}\")\n",
    "print(f\"Best accuracy: {grid_search.best_score_}\")\n"
   ]
  },
  {
   "attachments": {},
   "cell_type": "markdown",
   "metadata": {},
   "source": [
    "### 14 - Comparar la eficiencia del mejor modelo de RNA con los resultados obtenidos con los algoritmos de las hojas de trabajos anteriores.\n",
    "\n",
    "¿Cuál es mejor para predecir? Ambos modelos dieron buenos resultados de accuracy. En donde difiere los resultados es con la eficiencia de cada unos de los algoritmos.\n",
    "\n",
    "¿Cuál se demoró más en procesar? En este caso se tardo un poco más los modelos de regresión con redes neuronales con (17.6 s). A la hora de tunear dichos parametros este se tardo (1m con 11.4s). En cambio los modelos anteriores como SVM entre 2 y 3 segundos."
   ]
  }
 ],
 "metadata": {
  "kernelspec": {
   "display_name": "Python 3 (ipykernel)",
   "language": "python",
   "name": "python3"
  },
  "language_info": {
   "codemirror_mode": {
    "name": "ipython",
    "version": 3
   },
   "file_extension": ".py",
   "mimetype": "text/x-python",
   "name": "python",
   "nbconvert_exporter": "python",
   "pygments_lexer": "ipython3",
   "version": "3.10.6"
  }
 },
 "nbformat": 4,
 "nbformat_minor": 2
}
